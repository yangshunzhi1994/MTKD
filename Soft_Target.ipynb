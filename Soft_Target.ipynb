{
 "cells": [
  {
   "cell_type": "code",
   "execution_count": 1,
   "id": "e50b1156",
   "metadata": {},
   "outputs": [
    {
     "name": "stdout",
     "output_type": "stream",
     "text": [
      "tensor([0.2697, 0.2697, 0.1714, 0.0995, 0.1897], grad_fn=<SoftmaxBackward>)\n",
      "tensor([0.2697, 0.2697, 0.1714, 0.0995, 0.1897], grad_fn=<SoftmaxBackward>)\n"
     ]
    }
   ],
   "source": [
    "import torch\n",
    "from torch.autograd import Variable\n",
    "import torch.nn.functional as F\n",
    "\n",
    "x1 = Variable(torch.Tensor([12.998,12.995,3.927,-6.937,5.966]), requires_grad=True)\n",
    "y1 = F.softmax(x1/20,dim=0)\n",
    "print (y1)\n",
    "\n",
    "\n",
    "x2 = Variable(torch.Tensor([12.995,12.998,3.927,-6.937,5.966]), requires_grad=True)\n",
    "y2 = F.softmax(x2/20,dim=0)\n",
    "print (y2)"
   ]
  }
 ],
 "metadata": {
  "kernelspec": {
   "display_name": "Python (ysz)",
   "language": "python",
   "name": "ysz"
  },
  "language_info": {
   "codemirror_mode": {
    "name": "ipython",
    "version": 3
   },
   "file_extension": ".py",
   "mimetype": "text/x-python",
   "name": "python",
   "nbconvert_exporter": "python",
   "pygments_lexer": "ipython3",
   "version": "3.7.10"
  }
 },
 "nbformat": 4,
 "nbformat_minor": 5
}
