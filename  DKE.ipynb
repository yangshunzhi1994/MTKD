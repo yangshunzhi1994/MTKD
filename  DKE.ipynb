{
 "cells": [
  {
   "cell_type": "code",
   "execution_count": 1,
   "id": "6bdae224",
   "metadata": {},
   "outputs": [],
   "source": [
    "from __future__ import print_function\n",
    "\n",
    "import torch\n",
    "import torch.nn as nn\n",
    "import torch.optim as optim\n",
    "import torch.nn.functional as F\n",
    "import torch.backends.cudnn as cudnn\n",
    "import torchvision\n",
    "from torchvision import transforms as transforms\n",
    "import numpy as np\n",
    "import itertools\n",
    "import os\n",
    "import time\n",
    "import math\n",
    "import argparse\n",
    "import losses\n",
    "import other\n",
    "from datasets.RAF import RAF_multi_teacher\n",
    "from torch.autograd import Variable\n",
    "from network.teacherNet import Teacher\n",
    "from tensorboardX import SummaryWriter\n",
    "import matplotlib.pyplot as plt\n",
    "from tsne_torch import TorchTSNE as TSNE\n",
    "from audtorch.metrics.functional import pearsonr\n",
    "os.environ[\"CUDA_VISIBLE_DEVICES\"] = \"0\"\n",
    "\n",
    "def load_pretrained_model(model, pretrained_dict):\n",
    "\tmodel_dict = model.state_dict()\n",
    "\t# 1. filter out unnecessary keys\n",
    "\tpretrained_dict = {k: v for k, v in pretrained_dict.items() if k in model_dict}\n",
    "\t# 2. overwrite entries in the existing state dict\n",
    "\tmodel_dict.update(pretrained_dict) \n",
    "\t# 3. load the new state dict\n",
    "\tmodel.load_state_dict(model_dict)\n",
    "\n",
    "NUM_CLASSES = 7\n",
    "transform_test = transforms.Compose([\n",
    "    transforms.TenCrop(92),\n",
    "    transforms.Lambda(lambda crops: torch.stack([transforms.Normalize(\n",
    "        mean=[0.589667, 0.45717254, 0.40727714], std=[0.25235596, 0.23242524, 0.23155019])\n",
    "                (transforms.ToTensor()(crop)) for crop in crops])),])\n",
    "\n",
    "PrivateTestset = RAF_multi_teacher(split = 'PrivateTest', transform=transform_test)\n",
    "PrivateTestloader = torch.utils.data.DataLoader(PrivateTestset, batch_size=1, shuffle=False, num_workers=1)\n",
    "net1 = Teacher(num_classes=NUM_CLASSES).cuda()\n",
    "net2 = Teacher(num_classes=NUM_CLASSES).cuda()\n",
    "net3 = Teacher(num_classes=NUM_CLASSES).cuda()\n",
    "net4 = Teacher(num_classes=NUM_CLASSES).cuda()\n",
    "\n",
    "net1.eval()\n",
    "net2.eval()\n",
    "net3.eval()\n",
    "net4.eval()\n",
    "\n",
    "tcheckpoint = torch.load('results/RAF_MultiTeacher_OurDiversity_0.8_9.0/Best_MultiTeacher_model.t7')\n",
    "load_pretrained_model(net1, tcheckpoint['Teacher1'])\n",
    "load_pretrained_model(net2, tcheckpoint['Teacher2'])\n",
    "load_pretrained_model(net3, tcheckpoint['Teacher3'])\n",
    "load_pretrained_model(net4, tcheckpoint['Teacher4'])\n",
    "\n",
    "    \n",
    "def cos_Similarity(x,y):\n",
    "    vx = x - torch.mean(x, dim=1, keepdim=True)\n",
    "    vy = y - torch.mean(y, dim=1, keepdim=True)\n",
    "    pearson = nn.CosineSimilarity(dim=1, eps=1e-6).cuda()(x,y)\n",
    "    return pearson\n",
    "\n",
    "for batch_idx, (inputs, targets) in enumerate(PrivateTestloader):\n",
    "    test_bs, ncrops, c, h, w = np.shape(inputs)\n",
    "    inputs = inputs.view(-1, c, h, w)\n",
    "    inputs, targets = inputs.cuda(), targets.cuda()\n",
    "    inputs, targets = Variable(inputs), Variable(targets)\n",
    "    with torch.no_grad():\n",
    "        _, _, _, mimic1, outputs1 = net1(inputs)\n",
    "        _, _, _, mimic2, outputs2 = net2(inputs)\n",
    "        _, _, _, mimic3, outputs3 = net3(inputs)\n",
    "        _, _, _, mimic4, outputs4 = net4(inputs)\n",
    "        \n",
    "    outputs1 = outputs1.view(test_bs, ncrops, -1).mean(1)\n",
    "    outputs2 = outputs2.view(test_bs, ncrops, -1).mean(1) \n",
    "    outputs3 = outputs3.view(test_bs, ncrops, -1).mean(1) \n",
    "    outputs4 = outputs4.view(test_bs, ncrops, -1).mean(1)\n",
    "    mimic = (outputs1+outputs2+outputs3+outputs4)/4\n",
    "    \n",
    "    cos12 = cos_Similarity(outputs1,outputs2)\n",
    "    cos13 = cos_Similarity(outputs1,outputs3)\n",
    "    cos14 = cos_Similarity(outputs1,outputs4)\n",
    "    cos23 = cos_Similarity(outputs2,outputs3)\n",
    "    cos24 = cos_Similarity(outputs2,outputs4)\n",
    "    cos34 = cos_Similarity(outputs3,outputs4)\n",
    "    direction = torch.cat((cos12, cos13, cos14, cos23, cos24, cos34),0).unsqueeze(0)\n",
    "    \n",
    "    t_outputs1 = F.softmax(outputs1/20,dim=1)\n",
    "    t_outputs2 = F.softmax(outputs2/20,dim=1)\n",
    "    t_outputs3 = F.softmax(outputs3/20,dim=1)\n",
    "    t_outputs4 = F.softmax(outputs4/20,dim=1)\n",
    "    t_mimic = F.softmax(mimic/20,dim=1)\n",
    "    dark_knowledge = torch.cat((t_outputs1, t_outputs2, t_outputs3, t_outputs4),0)\n",
    "    Var = torch.cat((torch.var(dark_knowledge[:,0],dim=0).unsqueeze(0),torch.var(dark_knowledge[:,1],dim=0).unsqueeze(0),\n",
    "                         torch.var(dark_knowledge[:,2],dim=0).unsqueeze(0),torch.var(dark_knowledge[:,3],dim=0).unsqueeze(0),\n",
    "                         torch.var(dark_knowledge[:,4],dim=0).unsqueeze(0),torch.var(dark_knowledge[:,5],dim=0).unsqueeze(0),\n",
    "                         torch.var(dark_knowledge[:,6],dim=0).unsqueeze(0)),0).unsqueeze(0)\n",
    "    break\n",
    "direction_sum = direction.sum(1).unsqueeze(1)\n",
    "Var_sum = Var.sum(1).unsqueeze(1)\n",
    "targets = torch.nn.functional.one_hot(targets, num_classes=7)"
   ]
  },
  {
   "cell_type": "code",
   "execution_count": 2,
   "id": "ada4483f",
   "metadata": {},
   "outputs": [
    {
     "data": {
      "image/png": "[encoded data removed]",
      "text/plain": [
       "<Figure size 432x288 with 1 Axes>"
      ]
     },
     "metadata": {
      "needs_background": "light"
     },
     "output_type": "display_data"
    },
    {
     "data": {
      "image/png": "[encoded data removed]",
      "text/plain": [
       "<Figure size 432x288 with 1 Axes>"
      ]
     },
     "metadata": {
      "needs_background": "light"
     },
     "output_type": "display_data"
    },
    {
     "data": {
      "image/png": "[encoded data removed]",
      "text/plain": [
       "<Figure size 432x288 with 1 Axes>"
      ]
     },
     "metadata": {
      "needs_background": "light"
     },
     "output_type": "display_data"
    },
    {
     "data": {
      "image/png": "[encoded data removed]",
      "text/plain": [
       "<Figure size 432x288 with 1 Axes>"
      ]
     },
     "metadata": {
      "needs_background": "light"
     },
     "output_type": "display_data"
    },
    {
     "data": {
      "image/png": "[encoded data removed]",
      "text/plain": [
       "<Figure size 432x288 with 1 Axes>"
      ]
     },
     "metadata": {
      "needs_background": "light"
     },
     "output_type": "display_data"
    }
   ],
   "source": [
    "plt.figure(\"direction\") # 图像窗口名称\n",
    "plt.imshow(direction.cpu())\n",
    "plt.yticks([])\n",
    "plt.tick_params(labelsize=20)\n",
    "if not os.path.isdir('picture/'):\n",
    "    os.mkdir('picture/')\n",
    "plt.savefig('picture/direction.jpg', dpi=500)\n",
    "plt.show()\n",
    "\n",
    "plt.figure(\"Var\") # 图像窗口名称\n",
    "plt.imshow(Var.cpu())\n",
    "plt.yticks([])\n",
    "plt.tick_params(labelsize=20)\n",
    "if not os.path.isdir('picture/'):\n",
    "    os.mkdir('picture/')\n",
    "plt.savefig('picture/Var.jpg', dpi=500)\n",
    "plt.show()\n",
    "\n",
    "\n",
    "plt.figure(\"direction_sum\") # 图像窗口名称\n",
    "plt.imshow(direction_sum.cpu())\n",
    "plt.yticks([])\n",
    "plt.tick_params(labelsize=20)\n",
    "if not os.path.isdir('picture/'):\n",
    "    os.mkdir('picture/')\n",
    "plt.savefig('picture/direction_sum.jpg', dpi=500)\n",
    "plt.show()\n",
    "\n",
    "plt.figure(\"Var_sum\") # 图像窗口名称\n",
    "plt.imshow(Var_sum.cpu())\n",
    "plt.yticks([])\n",
    "plt.tick_params(labelsize=20)\n",
    "if not os.path.isdir('picture/'):\n",
    "    os.mkdir('picture/')\n",
    "plt.savefig('picture/Var_sum.jpg', dpi=500)\n",
    "plt.show()\n",
    "\n",
    "plt.figure(\"targets\") # 图像窗口名称\n",
    "plt.imshow(targets.cpu())\n",
    "plt.yticks([])\n",
    "plt.tick_params(labelsize=20)\n",
    "if not os.path.isdir('picture/'):\n",
    "    os.mkdir('picture/')\n",
    "plt.savefig('picture/targets.jpg', dpi=500)\n",
    "plt.show()"
   ]
  },
  {
   "cell_type": "code",
   "execution_count": 3,
   "id": "b1e11b00",
   "metadata": {},
   "outputs": [
    {
     "data": {
      "image/png": "[encoded data removed]",
      "text/plain": [
       "<Figure size 432x288 with 1 Axes>"
      ]
     },
     "metadata": {
      "needs_background": "light"
     },
     "output_type": "display_data"
    },
    {
     "data": {
      "image/png": "[encoded data removed]",
      "text/plain": [
       "<Figure size 432x288 with 1 Axes>"
      ]
     },
     "metadata": {
      "needs_background": "light"
     },
     "output_type": "display_data"
    },
    {
     "data": {
      "image/png": "[encoded data removed]",
      "text/plain": [
       "<Figure size 432x288 with 1 Axes>"
      ]
     },
     "metadata": {
      "needs_background": "light"
     },
     "output_type": "display_data"
    },
    {
     "data": {
      "image/png": "[encoded data removed]",
      "text/plain": [
       "<Figure size 432x288 with 1 Axes>"
      ]
     },
     "metadata": {
      "needs_background": "light"
     },
     "output_type": "display_data"
    },
    {
     "data": {
      "image/png": "[encoded data removed]",
      "text/plain": [
       "<Figure size 432x288 with 1 Axes>"
      ]
     },
     "metadata": {
      "needs_background": "light"
     },
     "output_type": "display_data"
    }
   ],
   "source": [
    "plt.figure(\"outputs1\") # 图像窗口名称\n",
    "plt.imshow(outputs1.cpu())\n",
    "plt.yticks([])\n",
    "plt.tick_params(labelsize=20)\n",
    "if not os.path.isdir('picture/'):\n",
    "    os.mkdir('picture/')\n",
    "plt.savefig('picture/outputs1.jpg', dpi=500)\n",
    "plt.show()\n",
    "\n",
    "plt.figure(\"outputs2\") # 图像窗口名称\n",
    "plt.imshow(outputs2.cpu())\n",
    "plt.yticks([])\n",
    "plt.tick_params(labelsize=20)\n",
    "if not os.path.isdir('picture/'):\n",
    "    os.mkdir('picture/')\n",
    "plt.savefig('picture/outputs2.jpg', dpi=500)\n",
    "plt.show()\n",
    "\n",
    "plt.figure(\"outputs3\") # 图像窗口名称\n",
    "plt.imshow(outputs3.cpu())\n",
    "plt.yticks([])\n",
    "plt.tick_params(labelsize=20)\n",
    "if not os.path.isdir('picture/'):\n",
    "    os.mkdir('picture/')\n",
    "plt.savefig('picture/outputs3.jpg', dpi=500)\n",
    "plt.show()\n",
    "\n",
    "plt.figure(\"outputs4\") # 图像窗口名称\n",
    "plt.imshow(outputs4.cpu())\n",
    "plt.yticks([])\n",
    "plt.tick_params(labelsize=20)\n",
    "if not os.path.isdir('picture/'):\n",
    "    os.mkdir('picture/')\n",
    "plt.savefig('picture/outputs4.jpg', dpi=500)\n",
    "plt.show()\n",
    "\n",
    "plt.figure(\"mimic\") # 图像窗口名称\n",
    "plt.imshow(mimic.cpu())\n",
    "plt.yticks([])\n",
    "plt.tick_params(labelsize=20)\n",
    "if not os.path.isdir('picture/'):\n",
    "    os.mkdir('picture/')\n",
    "plt.savefig('picture/mimic.jpg', dpi=500)\n",
    "plt.show()"
   ]
  },
  {
   "cell_type": "code",
   "execution_count": 4,
   "id": "e7f7b643",
   "metadata": {},
   "outputs": [
    {
     "data": {
      "image/png": "[encoded data removed]",
      "text/plain": [
       "<Figure size 432x288 with 1 Axes>"
      ]
     },
     "metadata": {
      "needs_background": "light"
     },
     "output_type": "display_data"
    },
    {
     "data": {
      "image/png": "[encoded data removed]",
      "text/plain": [
       "<Figure size 432x288 with 1 Axes>"
      ]
     },
     "metadata": {
      "needs_background": "light"
     },
     "output_type": "display_data"
    },
    {
     "data": {
      "image/png": "[encoded data removed]",
      "text/plain": [
       "<Figure size 432x288 with 1 Axes>"
      ]
     },
     "metadata": {
      "needs_background": "light"
     },
     "output_type": "display_data"
    },
    {
     "data": {
      "image/png": "[encoded data removed]",
      "text/plain": [
       "<Figure size 432x288 with 1 Axes>"
      ]
     },
     "metadata": {
      "needs_background": "light"
     },
     "output_type": "display_data"
    },
    {
     "data": {
      "image/png": "[encoded data removed]",
      "text/plain": [
       "<Figure size 432x288 with 1 Axes>"
      ]
     },
     "metadata": {
      "needs_background": "light"
     },
     "output_type": "display_data"
    }
   ],
   "source": [
    "plt.figure(\"t_outputs1\") # 图像窗口名称\n",
    "plt.imshow(t_outputs1.cpu())\n",
    "plt.yticks([])\n",
    "plt.tick_params(labelsize=20)\n",
    "if not os.path.isdir('picture/'):\n",
    "    os.mkdir('picture/')\n",
    "plt.savefig('picture/t_outputs1.jpg', dpi=500)\n",
    "plt.show()\n",
    "\n",
    "plt.figure(\"t_outputs2\") # 图像窗口名称\n",
    "plt.imshow(t_outputs2.cpu())\n",
    "plt.yticks([])\n",
    "plt.tick_params(labelsize=20)\n",
    "if not os.path.isdir('picture/'):\n",
    "    os.mkdir('picture/')\n",
    "plt.savefig('picture/t_outputs2.jpg', dpi=500)\n",
    "plt.show()\n",
    "\n",
    "plt.figure(\"t_outputs3\") # 图像窗口名称\n",
    "plt.imshow(t_outputs3.cpu())\n",
    "plt.yticks([])\n",
    "plt.tick_params(labelsize=20)\n",
    "if not os.path.isdir('picture/'):\n",
    "    os.mkdir('picture/')\n",
    "plt.savefig('picture/t_outputs3.jpg', dpi=500)\n",
    "plt.show()\n",
    "\n",
    "plt.figure(\"t_outputs4\") # 图像窗口名称\n",
    "plt.imshow(t_outputs4.cpu())\n",
    "plt.yticks([])\n",
    "plt.tick_params(labelsize=20)\n",
    "if not os.path.isdir('picture/'):\n",
    "    os.mkdir('picture/')\n",
    "plt.savefig('picture/t_outputs4.jpg', dpi=500)\n",
    "plt.show()\n",
    "\n",
    "plt.figure(\"t_mimic\") # 图像窗口名称\n",
    "plt.imshow(t_mimic.cpu())\n",
    "plt.yticks([])\n",
    "plt.tick_params(labelsize=20)\n",
    "if not os.path.isdir('picture/'):\n",
    "    os.mkdir('picture/')\n",
    "plt.savefig('picture/t_mimic.jpg', dpi=500)\n",
    "plt.show()"
   ]
  },
  {
   "cell_type": "code",
   "execution_count": null,
   "id": "ebc1dce8",
   "metadata": {},
   "outputs": [],
   "source": []
  }
 ],
 "metadata": {
  "kernelspec": {
   "display_name": "ysz",
   "language": "python",
   "name": "ysz"
  },
  "language_info": {
   "codemirror_mode": {
    "name": "ipython",
    "version": 3
   },
   "file_extension": ".py",
   "mimetype": "text/x-python",
   "name": "python",
   "nbconvert_exporter": "python",
   "pygments_lexer": "ipython3",
   "version": "3.8.12"
  }
 },
 "nbformat": 4,
 "nbformat_minor": 5
}
