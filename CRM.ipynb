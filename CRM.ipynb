{
 "cells": [
  {
   "cell_type": "code",
   "execution_count": 1,
   "id": "6bdae224",
   "metadata": {},
   "outputs": [],
   "source": [
    "from __future__ import print_function\n",
    "\n",
    "import torch\n",
    "import torch.nn as nn\n",
    "import torch.optim as optim\n",
    "import torch.nn.functional as F\n",
    "import torch.backends.cudnn as cudnn\n",
    "import torchvision\n",
    "from torchvision import transforms as transforms\n",
    "import numpy as np\n",
    "import itertools\n",
    "import os\n",
    "import time\n",
    "import math\n",
    "import argparse\n",
    "import losses\n",
    "import other\n",
    "from datasets.FairFace import FairFace\n",
    "from torch.autograd import Variable\n",
    "from network.teacherNet import Teacher\n",
    "from network.studentNet import CNN_RIS\n",
    "from tensorboardX import SummaryWriter\n",
    "import matplotlib.pyplot as plt\n",
    "os.environ[\"CUDA_VISIBLE_DEVICES\"] = \"0\"\n",
    "\n",
    "def load_pretrained_model(model, pretrained_dict):\n",
    "\tmodel_dict = model.state_dict()\n",
    "\t# 1. filter out unnecessary keys\n",
    "\tpretrained_dict = {k: v for k, v in pretrained_dict.items() if k in model_dict}\n",
    "\t# 2. overwrite entries in the existing state dict\n",
    "\tmodel_dict.update(pretrained_dict) \n",
    "\t# 3. load the new state dict\n",
    "\tmodel.load_state_dict(model_dict)\n",
    "\n",
    "NUM_CLASSES = 7\n",
    "transform_train = transforms.Compose([\n",
    "    transforms.RandomCrop(92),\n",
    "    transforms.RandomHorizontalFlip(),\n",
    "])\n",
    "transforms_teacher_Normalize = transforms.Normalize((0.4911152, 0.36028033, 0.30489963), \n",
    "                            (0.25160596, 0.21829675, 0.21198231))\n",
    "transforms_student_Normalize =  transforms.Normalize((0.4911364, 0.3602937, 0.3049148), \n",
    "                            (0.24722975, 0.21383813, 0.20771481))\n",
    "teacher_norm = transforms.Compose([\n",
    "transforms.ToTensor(),\n",
    "transforms_teacher_Normalize,\n",
    "])\n",
    "student_norm = transforms.Compose([\n",
    "transforms.Resize(44),\n",
    "transforms.ToTensor(),\n",
    "transforms_student_Normalize,\n",
    "])\n",
    "\n",
    "trainset = FairFace(split = 'Training', transform=transform_train, student_norm=student_norm, teacher_norm=teacher_norm)\n",
    "trainloader = torch.utils.data.DataLoader(trainset, batch_size=1, shuffle=True, num_workers=1)\n",
    "\n",
    "net1 = Teacher(num_classes=NUM_CLASSES).cuda()\n",
    "net2 = Teacher(num_classes=NUM_CLASSES).cuda()\n",
    "net3 = Teacher(num_classes=NUM_CLASSES).cuda()\n",
    "net4 = Teacher(num_classes=NUM_CLASSES).cuda()\n",
    "snet = CNN_RIS(num_classes=NUM_CLASSES).cuda()\n",
    "\n",
    "tcheckpoint = torch.load('FairFace_MultiTeacher_OurDiversity_0.8_9.0/Best_MultiTeacher_model.t7')\n",
    "load_pretrained_model(net1, tcheckpoint['Teacher1'])\n",
    "load_pretrained_model(net2, tcheckpoint['Teacher2'])\n",
    "load_pretrained_model(net3, tcheckpoint['Teacher3'])\n",
    "load_pretrained_model(net4, tcheckpoint['Teacher4'])\n",
    "scheckpoint = torch.load('FairFace_MultiTeacher_OurDiversity_0.8_9.0_KD3/Student_Test_model.t7')\n",
    "load_pretrained_model(snet, scheckpoint['snet'])\n",
    "\n",
    "net1.eval()\n",
    "net2.eval()\n",
    "net3.eval()\n",
    "net4.eval()\n",
    "snet.eval()\n",
    "for param in net1.parameters():\n",
    "    param.requires_grad = False\n",
    "for param in net2.parameters():\n",
    "    param.requires_grad = False\n",
    "for param in net3.parameters():\n",
    "    param.requires_grad = False\n",
    "for param in net4.parameters():\n",
    "    param.requires_grad = False\n",
    "for param in snet.parameters():\n",
    "    param.requires_grad = False\n",
    "\n",
    "for batch_idx, (img_teacher, img_student, target) in enumerate(trainloader):\n",
    "    img_teacher = img_teacher.cuda()\n",
    "    img_student = img_student.cuda()\n",
    "    target = target.cuda()\n",
    "    \n",
    "    img_teacher, img_student, target = Variable(img_teacher), Variable(img_student), Variable(target)\n",
    "    with torch.no_grad():\n",
    "        rb1_t1, rb2_t1, rb3_t1, mimic_t1, out_t1 = net1(img_teacher)\n",
    "        rb1_t2, rb2_t2, rb3_t2, mimic_t2, out_t2 = net2(img_teacher)\n",
    "        rb1_t3, rb2_t3, rb3_t3, mimic_t3, out_t3 = net3(img_teacher)\n",
    "        rb1_t4, rb2_t4, rb3_t4, mimic_t4, out_t4 = net4(img_teacher)\n",
    "        rb1_s, rb2_s, rb3_s, mimic_s, out_s = snet(img_student)\n",
    "    break    \n",
    "mimic = (out_t1+out_t2+out_t3+out_t4)/4\n",
    "C = torch.cat((out_t1[0][target[0]].unsqueeze(0), out_t2[0][target[0]].unsqueeze(0), \\\n",
    "               out_t3[0][target[0]].unsqueeze(0),out_t4[0][target[0]].unsqueeze(0)),0).unsqueeze(0)"
   ]
  },
  {
   "cell_type": "code",
   "execution_count": 3,
   "id": "32380bf5",
   "metadata": {},
   "outputs": [
    {
     "name": "stdout",
     "output_type": "stream",
     "text": [
      "tensor([[-139.7238,  -49.1987,   10.3111,    9.0452]], device='cuda:0')\n"
     ]
    },
    {
     "data": {
      "image/png": "[encoded data removed]",
      "text/plain": [
       "<Figure size 432x288 with 1 Axes>"
      ]
     },
     "metadata": {
      "needs_background": "light"
     },
     "output_type": "display_data"
    }
   ],
   "source": [
    "print (C)\n",
    "plt.figure(\"C\") # 图像窗口名称\n",
    "plt.imshow(C.cpu(), vmin = -140, vmax = 11)\n",
    "plt.yticks([])\n",
    "plt.tick_params(labelsize=20)\n",
    "if not os.path.isdir('picture/'):\n",
    "    os.mkdir('picture/')\n",
    "plt.savefig('picture/C.jpg', dpi=500)\n",
    "plt.show()"
   ]
  },
  {
   "cell_type": "code",
   "execution_count": 5,
   "id": "2afbb7f2",
   "metadata": {},
   "outputs": [
    {
     "name": "stdout",
     "output_type": "stream",
     "text": [
      "tensor([[-144.9095, -144.2937, -145.9087, -141.0431, -139.7238, -187.5367,\n",
      "         -144.6806]], device='cuda:0')\n"
     ]
    },
    {
     "data": {
      "image/png": "[encoded data removed]",
      "text/plain": [
       "<Figure size 432x288 with 1 Axes>"
      ]
     },
     "metadata": {
      "needs_background": "light"
     },
     "output_type": "display_data"
    }
   ],
   "source": [
    "print (out_t1)\n",
    "plt.figure(\"out_t1\") # 图像窗口名称\n",
    "plt.imshow(out_t1.cpu(), vmin = -188, vmax = -139)\n",
    "plt.yticks([])\n",
    "plt.tick_params(labelsize=20)\n",
    "if not os.path.isdir('picture/'):\n",
    "    os.mkdir('picture/')\n",
    "plt.savefig('picture/out_t1.jpg', dpi=500)\n",
    "plt.show()"
   ]
  },
  {
   "cell_type": "code",
   "execution_count": 7,
   "id": "95897061",
   "metadata": {},
   "outputs": [
    {
     "name": "stdout",
     "output_type": "stream",
     "text": [
      "tensor([[ -53.1199, -137.2756,  -54.7831,  -51.3168,  -49.1987,  -55.1040,\n",
      "          -53.9823]], device='cuda:0')\n"
     ]
    },
    {
     "data": {
      "image/png": "[encoded data removed]",
      "text/plain": [
       "<Figure size 432x288 with 1 Axes>"
      ]
     },
     "metadata": {
      "needs_background": "light"
     },
     "output_type": "display_data"
    }
   ],
   "source": [
    "print (out_t2)\n",
    "plt.figure(\"out_t2\") # 图像窗口名称\n",
    "plt.imshow(out_t2.cpu(), vmin = -138, vmax = -49)\n",
    "plt.yticks([])\n",
    "plt.tick_params(labelsize=20)\n",
    "if not os.path.isdir('picture/'):\n",
    "    os.mkdir('picture/')\n",
    "plt.savefig('picture/out_t2.jpg', dpi=500)\n",
    "plt.show()"
   ]
  },
  {
   "cell_type": "code",
   "execution_count": 9,
   "id": "71027822",
   "metadata": {},
   "outputs": [
    {
     "name": "stdout",
     "output_type": "stream",
     "text": [
      "tensor([[-44.8837,   6.4246,   6.2399,  10.2675,  10.3111,   5.9583, -39.0857]],\n",
      "       device='cuda:0')\n"
     ]
    },
    {
     "data": {
      "image/png": "[encoded data removed]",
      "text/plain": [
       "<Figure size 432x288 with 1 Axes>"
      ]
     },
     "metadata": {
      "needs_background": "light"
     },
     "output_type": "display_data"
    }
   ],
   "source": [
    "print (out_t3)\n",
    "plt.figure(\"out_t3\") # 图像窗口名称\n",
    "plt.imshow(out_t3.cpu(), vmin = -45, vmax = 11)\n",
    "plt.yticks([])\n",
    "plt.tick_params(labelsize=20)\n",
    "if not os.path.isdir('picture/'):\n",
    "    os.mkdir('picture/')\n",
    "plt.savefig('picture/out_t3.jpg', dpi=500)\n",
    "plt.show()"
   ]
  },
  {
   "cell_type": "code",
   "execution_count": 11,
   "id": "1098ecfe",
   "metadata": {},
   "outputs": [
    {
     "name": "stdout",
     "output_type": "stream",
     "text": [
      "tensor([[  2.7399,   3.4006, -60.7344,   5.4883,   9.0452,   2.3614,   2.9711]],\n",
      "       device='cuda:0')\n"
     ]
    },
    {
     "data": {
      "image/png": "[encoded data removed]",
      "text/plain": [
       "<Figure size 432x288 with 1 Axes>"
      ]
     },
     "metadata": {
      "needs_background": "light"
     },
     "output_type": "display_data"
    }
   ],
   "source": [
    "print (out_t4)\n",
    "plt.figure(\"out_t4\") # 图像窗口名称\n",
    "plt.imshow(out_t4.cpu(), vmin = -61, vmax = 10)\n",
    "plt.yticks([])\n",
    "plt.tick_params(labelsize=20)\n",
    "if not os.path.isdir('picture/'):\n",
    "    os.mkdir('picture/')\n",
    "plt.savefig('picture/out_t4.jpg', dpi=500)\n",
    "plt.show()"
   ]
  },
  {
   "cell_type": "code",
   "execution_count": 13,
   "id": "9f22dd1c",
   "metadata": {},
   "outputs": [
    {
     "name": "stdout",
     "output_type": "stream",
     "text": [
      "tensor([[-60.0433, -67.9360, -63.7966, -44.1510, -42.3915, -58.5802, -58.6944]],\n",
      "       device='cuda:0')\n"
     ]
    },
    {
     "data": {
      "image/png": "[encoded data removed]",
      "text/plain": [
       "<Figure size 432x288 with 1 Axes>"
      ]
     },
     "metadata": {
      "needs_background": "light"
     },
     "output_type": "display_data"
    }
   ],
   "source": [
    "print (mimic)\n",
    "plt.figure(\"mimic\") # 图像窗口名称\n",
    "plt.imshow(mimic.cpu(), vmin = -68, vmax = -42)\n",
    "plt.yticks([])\n",
    "plt.tick_params(labelsize=20)\n",
    "if not os.path.isdir('picture/'):\n",
    "    os.mkdir('picture/')\n",
    "plt.savefig('picture/mimic.jpg', dpi=500)\n",
    "plt.show()"
   ]
  },
  {
   "cell_type": "code",
   "execution_count": 15,
   "id": "ada4483f",
   "metadata": {},
   "outputs": [
    {
     "name": "stdout",
     "output_type": "stream",
     "text": [
      "tensor([[-15.1866, -14.8564, -23.8354,  -5.9371,  -3.4805, -10.9506, -15.4204]],\n",
      "       device='cuda:0')\n"
     ]
    },
    {
     "data": {
      "image/png": "[encoded data removed]",
      "text/plain": [
       "<Figure size 432x288 with 1 Axes>"
      ]
     },
     "metadata": {
      "needs_background": "light"
     },
     "output_type": "display_data"
    }
   ],
   "source": [
    "print (out_s)\n",
    "plt.figure(\"out_s\") # 图像窗口名称\n",
    "plt.imshow(out_s.cpu(), vmin = -24, vmax = -4)\n",
    "plt.yticks([])\n",
    "plt.tick_params(labelsize=20)\n",
    "if not os.path.isdir('picture/'):\n",
    "    os.mkdir('picture/')\n",
    "plt.savefig('picture/out_s.jpg', dpi=500)\n",
    "plt.show()"
   ]
  },
  {
   "cell_type": "code",
   "execution_count": 16,
   "id": "ebc1dce8",
   "metadata": {},
   "outputs": [],
   "source": [
    "min_C = min(C[0])\n",
    "min_C = -min_C*torch.ones(out_t1.shape).cuda()\n",
    "Coutputs1 = min_C + out_t1 + 0.00001\n",
    "Coutputs2 = min_C + out_t2 + 0.00001\n",
    "Coutputs3 = min_C + out_t3 + 0.00001\n",
    "Coutputs4 = min_C + out_t4 + 0.00001\n",
    "Cmimic = min_C + mimic + 0.00001\n",
    "\n",
    "max_preds = torch.cat((Coutputs1, Coutputs2, Coutputs3,Coutputs4),0)\n",
    "max_preds = torch.max(max_preds)\n",
    "\n",
    "weights = torch.cat((Coutputs1[0][target[0]].unsqueeze(0), Coutputs2[0][target[0]].unsqueeze(0), \\\n",
    "                     Coutputs3[0][target[0]].unsqueeze(0), Coutputs4[0][target[0]].unsqueeze(0),Cmimic[0][target[0]].unsqueeze(0)),0)\n",
    "weights2 = weights/max_preds\n",
    "weights1 = 1 - weights2\n",
    "\n",
    "d1, _ = torch.sort(Coutputs1, descending=True)\n",
    "if Coutputs1[0][target[0]] == d1[0][0]:\n",
    "    d1 = d1[0][0] - d1[0][1]\n",
    "else:\n",
    "    d1 = torch.zeros(1).cuda().squeeze(0)\n",
    "    \n",
    "d2, _ = torch.sort(Coutputs2, descending=True)\n",
    "if Coutputs2[0][target[0]] == d2[0][0]:\n",
    "    d2 = d2[0][0] - d2[0][1]\n",
    "else:\n",
    "    d2 = torch.zeros(1).cuda().squeeze(0)\n",
    "    \n",
    "d3, _ = torch.sort(Coutputs3, descending=True)\n",
    "if Coutputs3[0][target[0]] == d3[0][0]:\n",
    "    d3 = d3[0][0] - d3[0][1]\n",
    "else:\n",
    "    d3 = torch.zeros(1).cuda().squeeze(0)\n",
    "    \n",
    "d4, _ = torch.sort(Coutputs4, descending=True)\n",
    "if Coutputs4[0][target[0]] == d4[0][0]:\n",
    "    d4 = d4[0][0] - d4[0][1]\n",
    "else:\n",
    "    d4 = torch.zeros(1).cuda().squeeze(0)\n",
    "    \n",
    "d5, _ = torch.sort(Cmimic, descending=True)\n",
    "if Cmimic[0][target[0]] == d5[0][0]:\n",
    "    d5 = d5[0][0] - d5[0][1]\n",
    "else:\n",
    "    d5 = torch.zeros(1).cuda().squeeze(0)\n",
    "    \n",
    "c_ij = torch.cat((d1.unsqueeze(0),d2.unsqueeze(0),d3.unsqueeze(0),d4.unsqueeze(0),d5.unsqueeze(0)),0)\n",
    "R = nn.Softmax(dim=0).cuda()(c_ij/6)"
   ]
  },
  {
   "cell_type": "code",
   "execution_count": 17,
   "id": "861bf436",
   "metadata": {},
   "outputs": [
    {
     "name": "stdout",
     "output_type": "stream",
     "text": [
      "tensor([1.0000, 0.3966, 0.0000, 0.0084, 0.3513], device='cuda:0')\n"
     ]
    },
    {
     "data": {
      "image/png": "[encoded data removed]",
      "text/plain": [
       "<Figure size 432x288 with 1 Axes>"
      ]
     },
     "metadata": {
      "needs_background": "light"
     },
     "output_type": "display_data"
    }
   ],
   "source": [
    "print (weights1)\n",
    "plt.figure(\"weights1\") # 图像窗口名称\n",
    "plt.imshow(weights1.unsqueeze(0).cpu())\n",
    "plt.yticks([])\n",
    "plt.tick_params(labelsize=20)\n",
    "if not os.path.isdir('picture/'):\n",
    "    os.mkdir('picture/')\n",
    "plt.savefig('picture/weights1.jpg', dpi=500)\n",
    "plt.show()"
   ]
  },
  {
   "cell_type": "code",
   "execution_count": 18,
   "id": "0ca23710",
   "metadata": {},
   "outputs": [
    {
     "data": {
      "image/png": "[encoded data removed]",
      "text/plain": [
       "<Figure size 432x288 with 1 Axes>"
      ]
     },
     "metadata": {
      "needs_background": "light"
     },
     "output_type": "display_data"
    }
   ],
   "source": [
    "plt.figure(\"weights2\") # 图像窗口名称\n",
    "plt.imshow(weights2.unsqueeze(0).cpu())\n",
    "plt.yticks([])\n",
    "plt.tick_params(labelsize=20)\n",
    "if not os.path.isdir('picture/'):\n",
    "    os.mkdir('picture/')\n",
    "plt.savefig('picture/weights2.jpg', dpi=500)\n",
    "plt.show()"
   ]
  },
  {
   "cell_type": "code",
   "execution_count": 20,
   "id": "b3f44e19",
   "metadata": {},
   "outputs": [
    {
     "name": "stdout",
     "output_type": "stream",
     "text": [
      "tensor([1.3193, 2.1180, 0.0436, 3.5569, 1.7595], device='cuda:0')\n"
     ]
    },
    {
     "data": {
      "image/png": "[encoded data removed]",
      "text/plain": [
       "<Figure size 432x288 with 1 Axes>"
      ]
     },
     "metadata": {
      "needs_background": "light"
     },
     "output_type": "display_data"
    }
   ],
   "source": [
    "print (c_ij)\n",
    "plt.figure(\"c_ij\") # 图像窗口名称\n",
    "plt.imshow(c_ij.unsqueeze(0).cpu(), vmin = 0, vmax = 3.6)\n",
    "plt.yticks([])\n",
    "plt.tick_params(labelsize=20)\n",
    "if not os.path.isdir('picture/'):\n",
    "    os.mkdir('picture/')\n",
    "plt.savefig('picture/c_ij.jpg', dpi=500)\n",
    "plt.show()\n"
   ]
  },
  {
   "cell_type": "code",
   "execution_count": 22,
   "id": "534970e8",
   "metadata": {},
   "outputs": [
    {
     "name": "stdout",
     "output_type": "stream",
     "text": [
      "tensor([0.1825, 0.2085, 0.1476, 0.2650, 0.1964], device='cuda:0')\n"
     ]
    },
    {
     "data": {
      "image/png": "[encoded data removed]",
      "text/plain": [
       "<Figure size 432x288 with 1 Axes>"
      ]
     },
     "metadata": {
      "needs_background": "light"
     },
     "output_type": "display_data"
    }
   ],
   "source": [
    "print (R)\n",
    "plt.figure(\"R\") # 图像窗口名称\n",
    "plt.imshow(R.unsqueeze(0).cpu(), vmin = 0.18, vmax = 0.27)\n",
    "plt.yticks([])\n",
    "plt.tick_params(labelsize=20)\n",
    "if not os.path.isdir('picture/'):\n",
    "    os.mkdir('picture/')\n",
    "plt.savefig('picture/R.jpg', dpi=500)\n",
    "plt.show()"
   ]
  },
  {
   "cell_type": "code",
   "execution_count": 24,
   "id": "0255d3ca",
   "metadata": {},
   "outputs": [
    {
     "name": "stdout",
     "output_type": "stream",
     "text": [
      "tensor([[-5.1857e+00, -4.5698e+00, -6.1849e+00, -1.3192e+00,  1.0000e-05,\n",
      "         -4.7813e+01, -4.9567e+00]], device='cuda:0')\n"
     ]
    },
    {
     "data": {
      "image/png": "[encoded data removed]",
      "text/plain": [
       "<Figure size 432x288 with 1 Axes>"
      ]
     },
     "metadata": {
      "needs_background": "light"
     },
     "output_type": "display_data"
    }
   ],
   "source": [
    "print (Coutputs1)\n",
    "plt.figure(\"Coutputs1\") # 图像窗口名称\n",
    "plt.imshow(Coutputs1.cpu(), vmin = -48, vmax = 0.1)\n",
    "plt.yticks([])\n",
    "plt.tick_params(labelsize=20)\n",
    "if not os.path.isdir('picture/'):\n",
    "    os.mkdir('picture/')\n",
    "plt.savefig('picture/Coutputs1.jpg', dpi=500)\n",
    "plt.show()"
   ]
  },
  {
   "cell_type": "code",
   "execution_count": 26,
   "id": "d2004d74",
   "metadata": {},
   "outputs": [
    {
     "name": "stdout",
     "output_type": "stream",
     "text": [
      "tensor([[86.6040,  2.4482, 84.9407, 88.4071, 90.5251, 84.6199, 85.7416]],\n",
      "       device='cuda:0')\n"
     ]
    },
    {
     "data": {
      "image/png": "[encoded data removed]",
      "text/plain": [
       "<Figure size 432x288 with 1 Axes>"
      ]
     },
     "metadata": {
      "needs_background": "light"
     },
     "output_type": "display_data"
    }
   ],
   "source": [
    "print (Coutputs2)\n",
    "plt.figure(\"Coutputs2\") # 图像窗口名称\n",
    "plt.imshow(Coutputs2.cpu(), vmin = 2, vmax = 91)\n",
    "plt.yticks([])\n",
    "plt.tick_params(labelsize=20)\n",
    "if not os.path.isdir('picture/'):\n",
    "    os.mkdir('picture/')\n",
    "plt.savefig('picture/Coutputs2.jpg', dpi=500)\n",
    "plt.show()"
   ]
  },
  {
   "cell_type": "code",
   "execution_count": 28,
   "id": "43b359eb",
   "metadata": {},
   "outputs": [
    {
     "name": "stdout",
     "output_type": "stream",
     "text": [
      "tensor([[ 94.8402, 146.1484, 145.9637, 149.9913, 150.0350, 145.6822, 100.6382]],\n",
      "       device='cuda:0')\n"
     ]
    },
    {
     "data": {
      "image/png": "[encoded data removed]",
      "text/plain": [
       "<Figure size 432x288 with 1 Axes>"
      ]
     },
     "metadata": {
      "needs_background": "light"
     },
     "output_type": "display_data"
    }
   ],
   "source": [
    "print (Coutputs3)\n",
    "plt.figure(\"Coutputs3\") # 图像窗口名称\n",
    "plt.imshow(Coutputs3.cpu(), vmin = 94, vmax = 151)\n",
    "plt.yticks([])\n",
    "plt.tick_params(labelsize=20)\n",
    "if not os.path.isdir('picture/'):\n",
    "    os.mkdir('picture/')\n",
    "plt.savefig('picture/Coutputs3.jpg', dpi=500)\n",
    "plt.show()"
   ]
  },
  {
   "cell_type": "code",
   "execution_count": 30,
   "id": "732c468a",
   "metadata": {},
   "outputs": [
    {
     "name": "stdout",
     "output_type": "stream",
     "text": [
      "tensor([[142.4638, 143.1245,  78.9894, 145.2122, 148.7691, 142.0852, 142.6949]],\n",
      "       device='cuda:0')\n"
     ]
    },
    {
     "data": {
      "image/png": "[encoded data removed]",
      "text/plain": [
       "<Figure size 432x288 with 1 Axes>"
      ]
     },
     "metadata": {
      "needs_background": "light"
     },
     "output_type": "display_data"
    }
   ],
   "source": [
    "print (Coutputs4)\n",
    "plt.figure(\"Coutputs4\") # 图像窗口名称\n",
    "plt.imshow(Coutputs4.cpu(), vmin = 78, vmax = 149)\n",
    "plt.yticks([])\n",
    "plt.tick_params(labelsize=20)\n",
    "if not os.path.isdir('picture/'):\n",
    "    os.mkdir('picture/')\n",
    "plt.savefig('picture/Coutputs4.jpg', dpi=500)\n",
    "plt.show()"
   ]
  },
  {
   "cell_type": "code",
   "execution_count": 32,
   "id": "67d8e2ef",
   "metadata": {},
   "outputs": [
    {
     "name": "stdout",
     "output_type": "stream",
     "text": [
      "tensor([[79.6806, 71.7878, 75.9273, 95.5728, 97.3323, 81.1436, 81.0295]],\n",
      "       device='cuda:0')\n"
     ]
    },
    {
     "data": {
      "image/png": "[encoded data removed]",
      "text/plain": [
       "<Figure size 432x288 with 1 Axes>"
      ]
     },
     "metadata": {
      "needs_background": "light"
     },
     "output_type": "display_data"
    }
   ],
   "source": [
    "print (Cmimic)\n",
    "plt.figure(\"Cmimic\") # 图像窗口名称\n",
    "plt.imshow(Cmimic.cpu(), vmin = 71, vmax = 98)\n",
    "plt.yticks([])\n",
    "plt.tick_params(labelsize=20)\n",
    "if not os.path.isdir('picture/'):\n",
    "    os.mkdir('picture/')\n",
    "plt.savefig('picture/Cmimic.jpg', dpi=500)\n",
    "plt.show()"
   ]
  },
  {
   "cell_type": "code",
   "execution_count": 33,
   "id": "0fc39be3",
   "metadata": {},
   "outputs": [
    {
     "data": {
      "image/png": "[encoded data removed]",
      "text/plain": [
       "<Figure size 432x288 with 1 Axes>"
      ]
     },
     "metadata": {
      "needs_background": "light"
     },
     "output_type": "display_data"
    }
   ],
   "source": [
    "target = torch.nn.functional.one_hot(target, num_classes=7)\n",
    "plt.figure(\"target\") # 图像窗口名称\n",
    "plt.imshow(target.cpu(), vmin = 0, vmax = 2)\n",
    "plt.yticks([])\n",
    "plt.tick_params(labelsize=20)\n",
    "if not os.path.isdir('picture/'):\n",
    "    os.mkdir('picture/')\n",
    "plt.savefig('picture/target.jpg', dpi=500)\n",
    "plt.show()"
   ]
  },
  {
   "cell_type": "code",
   "execution_count": null,
   "id": "b5446269",
   "metadata": {},
   "outputs": [],
   "source": []
  }
 ],
 "metadata": {
  "kernelspec": {
   "display_name": "ysz",
   "language": "python",
   "name": "ysz"
  },
  "language_info": {
   "codemirror_mode": {
    "name": "ipython",
    "version": 3
   },
   "file_extension": ".py",
   "mimetype": "text/x-python",
   "name": "python",
   "nbconvert_exporter": "python",
   "pygments_lexer": "ipython3",
   "version": "3.8.12"
  }
 },
 "nbformat": 4,
 "nbformat_minor": 5
}
